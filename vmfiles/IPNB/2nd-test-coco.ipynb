{
 "cells": [
  {
   "cell_type": "code",
   "execution_count": 1,
   "metadata": {},
   "outputs": [],
   "source": [
    "import pyspark\n",
    "from  pyspark.sql import SparkSession\n",
    "from pyspark.sql import SQLContext\n",
    "from pyspark.conf import SparkConf"
   ]
  },
  {
   "cell_type": "code",
   "execution_count": 2,
   "metadata": {
    "scrolled": true
   },
   "outputs": [
    {
     "data": {
      "text/plain": [
       "[('spark.eventLog.enabled', 'true'),\n",
       " ('spark.sql.execution.arrow.enabled', 'true'),\n",
       " ('spark.executor.id', 'driver'),\n",
       " ('spark.driver.host', '10.0.2.15'),\n",
       " ('spark.app.name', 'Jupyter Notebook #1'),\n",
       " ('spark.sql.catalogImplementation', 'hive'),\n",
       " ('spark.driver.port', '41393'),\n",
       " ('spark.rdd.compress', 'True'),\n",
       " ('spark.app.id', 'local-1573796736499'),\n",
       " ('spark.eventLog.dir', '/var/log/ipnb'),\n",
       " ('spark.serializer.objectStreamReset', '100'),\n",
       " ('spark.master', 'local[*]'),\n",
       " ('spark.submit.deployMode', 'client'),\n",
       " ('spark.ui.showConsoleProgress', 'true'),\n",
       " ('spark.sql.warehouse.dir', '/vagrant/hive/warehouse')]"
      ]
     },
     "execution_count": 2,
     "metadata": {},
     "output_type": "execute_result"
    }
   ],
   "source": [
    "# https://stackoverflow.com/a/41946447/2049763\n",
    "# https://www.edureka.co/community/5268/how-to-change-the-spark-session-configuration-in-pyspark\n",
    "sc.getConf().getAll()"
   ]
  },
  {
   "cell_type": "code",
   "execution_count": 3,
   "metadata": {},
   "outputs": [
    {
     "data": {
      "text/plain": [
       "<pyspark.conf.SparkConf at 0x7f6f247a9c18>"
      ]
     },
     "execution_count": 3,
     "metadata": {},
     "output_type": "execute_result"
    }
   ],
   "source": [
    "# https://stackoverflow.com/a/39528114/2049763\n",
    "# https://stackoverflow.com/q/43692453/2049763\n",
    "\n",
    "config = SparkConf()\n",
    "config.setMaster('spark://192.72.33.100:7077')\n",
    "config.set(\"spark.driver.memory\", \"3g\") \n",
    "config.set(\"spark.executor.memory\", \"2g\") \n",
    "config.set(\"spark.network.timeout\", \"180\")\n",
    "config.set(\"spark.driver.host\", \"192.72.33.100\")\n",
    "config.set(\"spark.local.ip\", \"192.72.33.100\")\n",
    "config.set(\"spark.driver.bindAddress\", \"192.72.33.100\")\n",
    "config.setAppName('my_coco_app')"
   ]
  },
  {
   "cell_type": "code",
   "execution_count": null,
   "metadata": {},
   "outputs": [],
   "source": [
    "sc.stop()\n",
    "sc = SparkContext(conf=config)"
   ]
  },
  {
   "cell_type": "code",
   "execution_count": null,
   "metadata": {},
   "outputs": [],
   "source": [
    "spark = SparkSession.builder.config(conf=config).getOrCreate()\n",
    "sc.getConf().getAll()"
   ]
  },
  {
   "cell_type": "markdown",
   "metadata": {},
   "source": [
    "#### Required part finished\n",
    "* The end go to [work](#Real-work-starts-here:)\n",
    "* skip practice part"
   ]
  },
  {
   "cell_type": "code",
   "execution_count": null,
   "metadata": {},
   "outputs": [],
   "source": []
  },
  {
   "cell_type": "code",
   "execution_count": null,
   "metadata": {},
   "outputs": [],
   "source": []
  },
  {
   "cell_type": "code",
   "execution_count": 6,
   "metadata": {},
   "outputs": [],
   "source": [
    "sqlContext = SQLContext(spark)"
   ]
  },
  {
   "cell_type": "code",
   "execution_count": 21,
   "metadata": {},
   "outputs": [],
   "source": [
    "# https://pythonbasics.org/read-json-file/\n",
    "import json\n",
    "\n",
    "# read file\n",
    "with open(\"/vagrant/datasets/coco/instances_val2014.json\", 'r') as myfile:\n",
    "    data=myfile.read()"
   ]
  },
  {
   "cell_type": "code",
   "execution_count": 22,
   "metadata": {},
   "outputs": [],
   "source": [
    "# parse file\n",
    "obj = json.loads(data)"
   ]
  },
  {
   "cell_type": "code",
   "execution_count": 9,
   "metadata": {},
   "outputs": [
    {
     "name": "stdout",
     "output_type": "stream",
     "text": [
      "info\n",
      "images\n",
      "licenses\n",
      "annotations\n",
      "categories\n"
     ]
    }
   ],
   "source": [
    "for key in obj.keys(): \n",
    "    print(key)\n"
   ]
  },
  {
   "cell_type": "code",
   "execution_count": 10,
   "metadata": {
    "scrolled": true
   },
   "outputs": [
    {
     "data": {
      "text/plain": [
       "[{'supercategory': 'person', 'id': 1, 'name': 'person'},\n",
       " {'supercategory': 'vehicle', 'id': 2, 'name': 'bicycle'},\n",
       " {'supercategory': 'vehicle', 'id': 3, 'name': 'car'},\n",
       " {'supercategory': 'vehicle', 'id': 4, 'name': 'motorcycle'},\n",
       " {'supercategory': 'vehicle', 'id': 5, 'name': 'airplane'},\n",
       " {'supercategory': 'vehicle', 'id': 6, 'name': 'bus'},\n",
       " {'supercategory': 'vehicle', 'id': 7, 'name': 'train'},\n",
       " {'supercategory': 'vehicle', 'id': 8, 'name': 'truck'},\n",
       " {'supercategory': 'vehicle', 'id': 9, 'name': 'boat'},\n",
       " {'supercategory': 'outdoor', 'id': 10, 'name': 'traffic light'},\n",
       " {'supercategory': 'outdoor', 'id': 11, 'name': 'fire hydrant'},\n",
       " {'supercategory': 'outdoor', 'id': 13, 'name': 'stop sign'},\n",
       " {'supercategory': 'outdoor', 'id': 14, 'name': 'parking meter'},\n",
       " {'supercategory': 'outdoor', 'id': 15, 'name': 'bench'},\n",
       " {'supercategory': 'animal', 'id': 16, 'name': 'bird'},\n",
       " {'supercategory': 'animal', 'id': 17, 'name': 'cat'},\n",
       " {'supercategory': 'animal', 'id': 18, 'name': 'dog'},\n",
       " {'supercategory': 'animal', 'id': 19, 'name': 'horse'},\n",
       " {'supercategory': 'animal', 'id': 20, 'name': 'sheep'},\n",
       " {'supercategory': 'animal', 'id': 21, 'name': 'cow'},\n",
       " {'supercategory': 'animal', 'id': 22, 'name': 'elephant'},\n",
       " {'supercategory': 'animal', 'id': 23, 'name': 'bear'},\n",
       " {'supercategory': 'animal', 'id': 24, 'name': 'zebra'},\n",
       " {'supercategory': 'animal', 'id': 25, 'name': 'giraffe'},\n",
       " {'supercategory': 'accessory', 'id': 27, 'name': 'backpack'},\n",
       " {'supercategory': 'accessory', 'id': 28, 'name': 'umbrella'},\n",
       " {'supercategory': 'accessory', 'id': 31, 'name': 'handbag'},\n",
       " {'supercategory': 'accessory', 'id': 32, 'name': 'tie'},\n",
       " {'supercategory': 'accessory', 'id': 33, 'name': 'suitcase'},\n",
       " {'supercategory': 'sports', 'id': 34, 'name': 'frisbee'},\n",
       " {'supercategory': 'sports', 'id': 35, 'name': 'skis'},\n",
       " {'supercategory': 'sports', 'id': 36, 'name': 'snowboard'},\n",
       " {'supercategory': 'sports', 'id': 37, 'name': 'sports ball'},\n",
       " {'supercategory': 'sports', 'id': 38, 'name': 'kite'},\n",
       " {'supercategory': 'sports', 'id': 39, 'name': 'baseball bat'},\n",
       " {'supercategory': 'sports', 'id': 40, 'name': 'baseball glove'},\n",
       " {'supercategory': 'sports', 'id': 41, 'name': 'skateboard'},\n",
       " {'supercategory': 'sports', 'id': 42, 'name': 'surfboard'},\n",
       " {'supercategory': 'sports', 'id': 43, 'name': 'tennis racket'},\n",
       " {'supercategory': 'kitchen', 'id': 44, 'name': 'bottle'},\n",
       " {'supercategory': 'kitchen', 'id': 46, 'name': 'wine glass'},\n",
       " {'supercategory': 'kitchen', 'id': 47, 'name': 'cup'},\n",
       " {'supercategory': 'kitchen', 'id': 48, 'name': 'fork'},\n",
       " {'supercategory': 'kitchen', 'id': 49, 'name': 'knife'},\n",
       " {'supercategory': 'kitchen', 'id': 50, 'name': 'spoon'},\n",
       " {'supercategory': 'kitchen', 'id': 51, 'name': 'bowl'},\n",
       " {'supercategory': 'food', 'id': 52, 'name': 'banana'},\n",
       " {'supercategory': 'food', 'id': 53, 'name': 'apple'},\n",
       " {'supercategory': 'food', 'id': 54, 'name': 'sandwich'},\n",
       " {'supercategory': 'food', 'id': 55, 'name': 'orange'},\n",
       " {'supercategory': 'food', 'id': 56, 'name': 'broccoli'},\n",
       " {'supercategory': 'food', 'id': 57, 'name': 'carrot'},\n",
       " {'supercategory': 'food', 'id': 58, 'name': 'hot dog'},\n",
       " {'supercategory': 'food', 'id': 59, 'name': 'pizza'},\n",
       " {'supercategory': 'food', 'id': 60, 'name': 'donut'},\n",
       " {'supercategory': 'food', 'id': 61, 'name': 'cake'},\n",
       " {'supercategory': 'furniture', 'id': 62, 'name': 'chair'},\n",
       " {'supercategory': 'furniture', 'id': 63, 'name': 'couch'},\n",
       " {'supercategory': 'furniture', 'id': 64, 'name': 'potted plant'},\n",
       " {'supercategory': 'furniture', 'id': 65, 'name': 'bed'},\n",
       " {'supercategory': 'furniture', 'id': 67, 'name': 'dining table'},\n",
       " {'supercategory': 'furniture', 'id': 70, 'name': 'toilet'},\n",
       " {'supercategory': 'electronic', 'id': 72, 'name': 'tv'},\n",
       " {'supercategory': 'electronic', 'id': 73, 'name': 'laptop'},\n",
       " {'supercategory': 'electronic', 'id': 74, 'name': 'mouse'},\n",
       " {'supercategory': 'electronic', 'id': 75, 'name': 'remote'},\n",
       " {'supercategory': 'electronic', 'id': 76, 'name': 'keyboard'},\n",
       " {'supercategory': 'electronic', 'id': 77, 'name': 'cell phone'},\n",
       " {'supercategory': 'appliance', 'id': 78, 'name': 'microwave'},\n",
       " {'supercategory': 'appliance', 'id': 79, 'name': 'oven'},\n",
       " {'supercategory': 'appliance', 'id': 80, 'name': 'toaster'},\n",
       " {'supercategory': 'appliance', 'id': 81, 'name': 'sink'},\n",
       " {'supercategory': 'appliance', 'id': 82, 'name': 'refrigerator'},\n",
       " {'supercategory': 'indoor', 'id': 84, 'name': 'book'},\n",
       " {'supercategory': 'indoor', 'id': 85, 'name': 'clock'},\n",
       " {'supercategory': 'indoor', 'id': 86, 'name': 'vase'},\n",
       " {'supercategory': 'indoor', 'id': 87, 'name': 'scissors'},\n",
       " {'supercategory': 'indoor', 'id': 88, 'name': 'teddy bear'},\n",
       " {'supercategory': 'indoor', 'id': 89, 'name': 'hair drier'},\n",
       " {'supercategory': 'indoor', 'id': 90, 'name': 'toothbrush'}]"
      ]
     },
     "execution_count": 10,
     "metadata": {},
     "output_type": "execute_result"
    }
   ],
   "source": [
    "obj[\"categories\"]"
   ]
  },
  {
   "cell_type": "code",
   "execution_count": 11,
   "metadata": {},
   "outputs": [],
   "source": [
    "# https://stackoverflow.com/a/49399359/2049763\n",
    "# https://stackoverflow.com/a/49676143/2049763\n",
    "categories = spark.read.json(sc.parallelize(obj[\"categories\"]))"
   ]
  },
  {
   "cell_type": "code",
   "execution_count": 12,
   "metadata": {},
   "outputs": [
    {
     "data": {
      "text/plain": [
       "Row(id=1, name='person', supercategory='person')"
      ]
     },
     "execution_count": 12,
     "metadata": {},
     "output_type": "execute_result"
    }
   ],
   "source": [
    "categories.head()"
   ]
  },
  {
   "cell_type": "code",
   "execution_count": 13,
   "metadata": {
    "scrolled": true
   },
   "outputs": [
    {
     "name": "stdout",
     "output_type": "stream",
     "text": [
      "+---+-------------+-------------+\n",
      "| id|         name|supercategory|\n",
      "+---+-------------+-------------+\n",
      "|  1|       person|       person|\n",
      "|  2|      bicycle|      vehicle|\n",
      "|  3|          car|      vehicle|\n",
      "|  4|   motorcycle|      vehicle|\n",
      "|  5|     airplane|      vehicle|\n",
      "|  6|          bus|      vehicle|\n",
      "|  7|        train|      vehicle|\n",
      "|  8|        truck|      vehicle|\n",
      "|  9|         boat|      vehicle|\n",
      "| 10|traffic light|      outdoor|\n",
      "| 11| fire hydrant|      outdoor|\n",
      "| 13|    stop sign|      outdoor|\n",
      "| 14|parking meter|      outdoor|\n",
      "| 15|        bench|      outdoor|\n",
      "| 16|         bird|       animal|\n",
      "| 17|          cat|       animal|\n",
      "| 18|          dog|       animal|\n",
      "| 19|        horse|       animal|\n",
      "| 20|        sheep|       animal|\n",
      "| 21|          cow|       animal|\n",
      "+---+-------------+-------------+\n",
      "only showing top 20 rows\n",
      "\n"
     ]
    }
   ],
   "source": [
    "categories.show()"
   ]
  },
  {
   "cell_type": "code",
   "execution_count": 14,
   "metadata": {},
   "outputs": [],
   "source": [
    "images = spark.read.json(sc.parallelize(obj[\"images\"]))"
   ]
  },
  {
   "cell_type": "code",
   "execution_count": 15,
   "metadata": {
    "scrolled": true
   },
   "outputs": [
    {
     "name": "stdout",
     "output_type": "stream",
     "text": [
      "+--------------------+-------------------+--------------------+--------------------+------+------+-------+-----+\n",
      "|            coco_url|      date_captured|           file_name|          flickr_url|height|    id|license|width|\n",
      "+--------------------+-------------------+--------------------+--------------------+------+------+-------+-----+\n",
      "|http://images.coc...|2013-11-14 11:18:45|COCO_val2014_0000...|http://farm9.stat...|   360|391895|      3|  640|\n",
      "|http://images.coc...|2013-11-14 11:38:44|COCO_val2014_0000...|http://farm1.stat...|   480|522418|      4|  640|\n",
      "|http://images.coc...|2013-11-14 12:36:29|COCO_val2014_0000...|http://farm3.stat...|   336|184613|      3|  500|\n",
      "|http://images.coc...|2013-11-14 13:02:53|COCO_val2014_0000...|http://farm5.stat...|   640|318219|      3|  556|\n",
      "|http://images.coc...|2013-11-14 16:03:19|COCO_val2014_0000...|http://farm5.stat...|   640|554625|      3|  426|\n",
      "|http://images.coc...|2013-11-14 17:02:52|COCO_val2014_0000...|http://farm7.stat...|   427|397133|      4|  640|\n",
      "|http://images.coc...|2013-11-14 17:07:59|COCO_val2014_0000...|http://farm8.stat...|   640|574769|      3|  480|\n",
      "|http://images.coc...|2013-11-14 17:24:15|COCO_val2014_0000...|http://farm7.stat...|   427| 60623|      4|  640|\n",
      "|http://images.coc...|2013-11-14 17:28:23|COCO_val2014_0000...|http://farm4.stat...|   480|309022|      2|  640|\n",
      "|http://images.coc...|2013-11-14 17:28:25|COCO_val2014_0000...|http://farm4.stat...|   479|  5802|      2|  640|\n",
      "|http://images.coc...|2013-11-14 17:30:34|COCO_val2014_0000...|http://farm8.stat...|   480|222564|      2|  640|\n",
      "|http://images.coc...|2013-11-14 17:44:50|COCO_val2014_0000...|http://farm8.stat...|   640|118113|      1|  480|\n",
      "|http://images.coc...|2013-11-14 17:55:04|COCO_val2014_0000...|http://farm4.stat...|   320|193271|      1|  480|\n",
      "|http://images.coc...|2013-11-14 18:20:45|COCO_val2014_0000...|http://farm3.stat...|   427|224736|      3|  640|\n",
      "|http://images.coc...|2013-11-14 18:27:53|COCO_val2014_0000...|http://farm3.stat...|   640|483108|      3|  428|\n",
      "|http://images.coc...|2013-11-14 18:37:28|COCO_val2014_0000...|http://farm8.stat...|   450|403013|      2|  301|\n",
      "|http://images.coc...|2013-11-14 19:18:11|COCO_val2014_0000...|http://farm5.stat...|   326|374628|      2|  640|\n",
      "|http://images.coc...|2013-11-14 19:34:34|COCO_val2014_0000...|http://farm4.stat...|   332|328757|      3|  500|\n",
      "|http://images.coc...|2013-11-14 19:38:10|COCO_val2014_0000...|http://farm3.stat...|   500|384213|      3|  375|\n",
      "|http://images.coc...|2013-11-14 20:28:50|COCO_val2014_0000...|http://farm4.stat...|   640|293802|      3|  425|\n",
      "+--------------------+-------------------+--------------------+--------------------+------+------+-------+-----+\n",
      "only showing top 20 rows\n",
      "\n"
     ]
    }
   ],
   "source": [
    "images.show()"
   ]
  },
  {
   "cell_type": "code",
   "execution_count": null,
   "metadata": {},
   "outputs": [],
   "source": []
  },
  {
   "cell_type": "code",
   "execution_count": 23,
   "metadata": {},
   "outputs": [],
   "source": [
    "annotations = spark.read.json(sc.parallelize(obj[\"annotations\"]))"
   ]
  },
  {
   "cell_type": "code",
   "execution_count": 28,
   "metadata": {
    "scrolled": true
   },
   "outputs": [
    {
     "data": {
      "text/plain": [
       "StructType(List(StructField(area,DoubleType,true),StructField(bbox,ArrayType(DoubleType,true),true),StructField(category_id,LongType,true),StructField(id,LongType,true),StructField(image_id,LongType,true),StructField(iscrowd,LongType,true),StructField(segmentation,StringType,true)))"
      ]
     },
     "execution_count": 28,
     "metadata": {},
     "output_type": "execute_result"
    }
   ],
   "source": [
    "# https://stackoverflow.com/a/37400892/2049763\n",
    "annotations_schema = annotations.schema; annotations_schema"
   ]
  },
  {
   "cell_type": "code",
   "execution_count": 35,
   "metadata": {},
   "outputs": [],
   "source": [
    "# https://stackoverflow.com/q/41386557/2049763\n",
    "from pyspark.sql.types import StructType, StructField, StringType, DoubleType, LongType, ArrayType\n",
    "\n",
    "annotations_schema = StructType([\n",
    "StructField('area',StringType(), True),\n",
    "StructField('bbox',ArrayType(DoubleType(),True),True),\n",
    "StructField('category_id',LongType(),True),\n",
    "StructField('id',LongType(),True),\n",
    "StructField('image_id',LongType(),True),\n",
    "StructField('iscrowd',LongType(),True),\n",
    "StructField('segmentation',StringType(),True)\n",
    "])\n"
   ]
  },
  {
   "cell_type": "code",
   "execution_count": 17,
   "metadata": {
    "scrolled": true
   },
   "outputs": [
    {
     "name": "stdout",
     "output_type": "stream",
     "text": [
      "+------------------+--------------------+-----------+---+--------+-------+--------------------+\n",
      "|              area|                bbox|category_id| id|image_id|iscrowd|        segmentation|\n",
      "+------------------+--------------------+-----------+---+--------+-------+--------------------+\n",
      "|       148769.3913|[1.23, 210.14, 60...|         58| 87|   34567|      0|[[14.75,255.61,49...|\n",
      "|18809.937250000006|[9.83, 147.47, 14...|         58|131|  135167|      0|[[29.49,172.05,29...|\n",
      "|       22288.89475|[286.52, 181.27, ...|         58|144|  381318|      0|[[340.82,353.35,3...|\n",
      "|2765.1486500000005|[199.84, 200.46, ...|         58|156|  558840|      0|[[239.97,260.24,2...|\n",
      "|19232.358400000005|[107.52, 271.02, ...|         58|202|  157883|      0|[[203.52,390.06,1...|\n",
      "|       64170.58415|[64.75, 156.54, 4...|         58|212|  292995|      0|[[68.16,257.08,14...|\n",
      "|19358.362200000003|[290.12, 78.07, 2...|         58|257|   43494|      0|[[573.49,89.64,56...|\n",
      "|17809.733500000002|[38.22, 338.96, 2...|         58|274|  185614|      0|[[251.85,415.7,29...|\n",
      "| 2565.116949999999|[309.38, 56.22, 6...|         58|278|  467528|      0|[[328.61,95.55,33...|\n",
      "|47310.217450000004|[154.34, 31.72, 2...|         58|283|  118367|      0|[[220.36,313.82,2...|\n",
      "|        38549.3296|[43.82, 121.88, 1...|         58|323|  376990|      0|[[45.35,224.89,48...|\n",
      "|        17340.1609|[267.99, 68.14, 8...|         58|339|  541635|      0|[[299.28,317.73,2...|\n",
      "|10443.110399999998|[130.56, 145.66, ...|         58|352|   55429|      0|[[130.56,313.66,1...|\n",
      "|      107452.60385|[25.78, 52.43, 58...|         58|381|  464786|      0|[[25.78,65.32,275...|\n",
      "|25645.800300000006|[251.07, 217.01, ...|         58|383|  467742|      0|[[252.45,276.32,2...|\n",
      "|2730.3058999999994|[139.83, 180.16, ...|         58|453|  135266|      0|[[199.95,182.43,2...|\n",
      "| 3506.368849999998|[164.82, 157.59, ...|         58|495|   73417|      0|[[181.2,157.59,16...|\n",
      "|1545.4213000000007|[234.22, 317.11, ...|         58|509|  200365|      0|[[247.71,354.7,25...|\n",
      "| 525.6883499999999|[194.95, 262.24, ...|         58|548|  383419|      0|[[211.34,288.12,2...|\n",
      "|       14878.08055|[147.27, 282.15, ...|         58|567|  581206|      0|[[181.68,488.6,22...|\n",
      "+------------------+--------------------+-----------+---+--------+-------+--------------------+\n",
      "only showing top 20 rows\n",
      "\n"
     ]
    }
   ],
   "source": [
    "annotations.orderBy(\"id\").show()"
   ]
  },
  {
   "cell_type": "code",
   "execution_count": 18,
   "metadata": {},
   "outputs": [
    {
     "name": "stdout",
     "output_type": "stream",
     "text": [
      "(291875, 7)\n"
     ]
    }
   ],
   "source": [
    "print((annotations.count(), len(annotations.columns)))"
   ]
  },
  {
   "cell_type": "code",
   "execution_count": 19,
   "metadata": {
    "scrolled": false
   },
   "outputs": [
    {
     "data": {
      "text/plain": [
       "40137"
      ]
     },
     "execution_count": 19,
     "metadata": {},
     "output_type": "execute_result"
    }
   ],
   "source": [
    "# https://stackoverflow.com/a/47046277/2049763\n",
    "annotations.select('image_id').distinct().count()"
   ]
  },
  {
   "cell_type": "code",
   "execution_count": 28,
   "metadata": {},
   "outputs": [],
   "source": [
    "# from pyspark.sql import Window\n",
    "# w = Window.partitionBy('category_id')"
   ]
  },
  {
   "cell_type": "code",
   "execution_count": 29,
   "metadata": {},
   "outputs": [],
   "source": [
    "# annotations.count().over(w)"
   ]
  },
  {
   "cell_type": "code",
   "execution_count": 30,
   "metadata": {},
   "outputs": [],
   "source": [
    "category_id_count_df = annotations.groupBy('category_id').count()"
   ]
  },
  {
   "cell_type": "code",
   "execution_count": null,
   "metadata": {
    "scrolled": true
   },
   "outputs": [],
   "source": [
    "category_id_count_df.show(100, truncate = False) "
   ]
  },
  {
   "cell_type": "code",
   "execution_count": null,
   "metadata": {},
   "outputs": [],
   "source": [
    "import shutil\n",
    "shutil.rmtree(\"/vagrant/datasets/coco/instances_val2014_category_outer_join_df.csv\") "
   ]
  },
  {
   "cell_type": "code",
   "execution_count": null,
   "metadata": {},
   "outputs": [],
   "source": [
    "# https://stackoverflow.com/a/42111775/2049763\n",
    "category_id_count_df.repartition(1).write.csv(path=\"/vagrant/datasets/coco/instances_val2014.csv\", mode=\"append\", header=\"true\")"
   ]
  },
  {
   "cell_type": "code",
   "execution_count": 51,
   "metadata": {},
   "outputs": [
    {
     "name": "stdout",
     "output_type": "stream",
     "text": [
      "+-----------+-----+---+-------------+-------------+\n",
      "|category_id|count| id|         name|supercategory|\n",
      "+-----------+-----+---+-------------+-------------+\n",
      "|         65| 1450| 65|          bed|    furniture|\n",
      "|         19| 2194| 19|        horse|       animal|\n",
      "|         54| 1461| 54|     sandwich|         food|\n",
      "|         22| 1863| 22|     elephant|       animal|\n",
      "|          7| 1602|  7|        train|      vehicle|\n",
      "|         77| 2236| 77|   cell phone|   electronic|\n",
      "|         34|  935| 34|      frisbee|       sports|\n",
      "|         50| 2131| 50|        spoon|      kitchen|\n",
      "|         57| 2684| 57|       carrot|         food|\n",
      "|         32| 2253| 32|          tie|    accessory|\n",
      "|         43| 1626| 43|tennis racket|       sports|\n",
      "|         84| 8561| 84|         book|       indoor|\n",
      "|         31| 4116| 31|      handbag|    accessory|\n",
      "|         39| 1022| 39| baseball bat|       sports|\n",
      "|         25| 1767| 25|      giraffe|       animal|\n",
      "|          6| 2027|  6|          bus|      vehicle|\n",
      "|         72| 2057| 72|           tv|   electronic|\n",
      "|         87|  444| 87|     scissors|       indoor|\n",
      "|         58| 1022| 58|      hot dog|         food|\n",
      "|          9| 3599|  9|         boat|      vehicle|\n",
      "+-----------+-----+---+-------------+-------------+\n",
      "only showing top 20 rows\n",
      "\n"
     ]
    }
   ],
   "source": [
    "category_inner_join_df = category_id_count_df.join(categories, category_id_count_df.category_id == categories.id)\n",
    "category_inner_join_df.show()"
   ]
  },
  {
   "cell_type": "code",
   "execution_count": 52,
   "metadata": {},
   "outputs": [],
   "source": [
    "category_inner_join_df.repartition(1).write.csv(path=\"/vagrant/datasets/coco/instances_val2014_category_inner_join_df.csv\", mode=\"append\", header=\"true\")"
   ]
  },
  {
   "cell_type": "code",
   "execution_count": 55,
   "metadata": {},
   "outputs": [],
   "source": [
    "# http://www.learnbymarketing.com/1100/pyspark-joins-by-example/\n",
    "category_outer_join_df = category_id_count_df.join(categories, category_id_count_df.category_id == categories.id, how='full')\n",
    "\n",
    "\n",
    "category_outer_join_df.repartition(1).write.csv(path=\"/vagrant/datasets/coco/instances_val2014_category_outer_join_df.csv\", mode=\"append\", header=\"true\")"
   ]
  },
  {
   "cell_type": "code",
   "execution_count": 59,
   "metadata": {},
   "outputs": [],
   "source": [
    "# https://spark.apache.org/docs/latest/api/python/pyspark.sql.html#pyspark.sql.DataFrame.orderBy\n",
    "category_outer_join_df = category_id_count_df.join(categories, category_id_count_df.category_id == categories.id, how='full')"
   ]
  },
  {
   "cell_type": "code",
   "execution_count": 62,
   "metadata": {},
   "outputs": [],
   "source": [
    "category_outer_join_df = category_outer_join_df.sort(\"category_id\", ascending=True)"
   ]
  },
  {
   "cell_type": "code",
   "execution_count": 65,
   "metadata": {},
   "outputs": [],
   "source": [
    "category_outer_join_df.repartition(1).write.csv(path=\"/vagrant/datasets/coco/instances_val2014_category_outer_join_df.csv\", mode=\"append\", header=\"true\")"
   ]
  },
  {
   "cell_type": "code",
   "execution_count": null,
   "metadata": {},
   "outputs": [],
   "source": []
  },
  {
   "cell_type": "code",
   "execution_count": null,
   "metadata": {},
   "outputs": [],
   "source": []
  },
  {
   "cell_type": "code",
   "execution_count": null,
   "metadata": {},
   "outputs": [],
   "source": []
  },
  {
   "cell_type": "code",
   "execution_count": null,
   "metadata": {},
   "outputs": [],
   "source": []
  },
  {
   "cell_type": "markdown",
   "metadata": {},
   "source": [
    "## Real work starts here:"
   ]
  },
  {
   "cell_type": "markdown",
   "metadata": {},
   "source": [
    "### instances_train2014"
   ]
  },
  {
   "cell_type": "code",
   "execution_count": 13,
   "metadata": {},
   "outputs": [],
   "source": [
    "# read file\n",
    "path = \"/vagrant/datasets/coco/instances_train2014.json\"\n",
    "# raw_data = sc.textFile(path)"
   ]
  },
  {
   "cell_type": "code",
   "execution_count": 14,
   "metadata": {},
   "outputs": [],
   "source": [
    "import json"
   ]
  },
  {
   "cell_type": "code",
   "execution_count": 15,
   "metadata": {},
   "outputs": [],
   "source": [
    "# read file\n",
    "with open(path, 'r') as myfile:\n",
    "    data=myfile.read()"
   ]
  },
  {
   "cell_type": "code",
   "execution_count": 16,
   "metadata": {},
   "outputs": [],
   "source": [
    "# parse file\n",
    "obj = json.loads(data)"
   ]
  },
  {
   "cell_type": "code",
   "execution_count": 17,
   "metadata": {
    "scrolled": true
   },
   "outputs": [],
   "source": [
    "# parse file\n",
    "# instances_train2014 = raw_data.map(json.loads)\n",
    "# instances_train2014.persist()"
   ]
  },
  {
   "cell_type": "code",
   "execution_count": 47,
   "metadata": {},
   "outputs": [],
   "source": [
    "from pyspark import sql"
   ]
  },
  {
   "cell_type": "code",
   "execution_count": 19,
   "metadata": {
    "scrolled": true
   },
   "outputs": [
    {
     "name": "stdout",
     "output_type": "stream",
     "text": [
      "+---+-------------+-------------+\n",
      "| id|         name|supercategory|\n",
      "+---+-------------+-------------+\n",
      "|  1|       person|       person|\n",
      "|  2|      bicycle|      vehicle|\n",
      "|  3|          car|      vehicle|\n",
      "|  4|   motorcycle|      vehicle|\n",
      "|  5|     airplane|      vehicle|\n",
      "|  6|          bus|      vehicle|\n",
      "|  7|        train|      vehicle|\n",
      "|  8|        truck|      vehicle|\n",
      "|  9|         boat|      vehicle|\n",
      "| 10|traffic light|      outdoor|\n",
      "| 11| fire hydrant|      outdoor|\n",
      "| 13|    stop sign|      outdoor|\n",
      "| 14|parking meter|      outdoor|\n",
      "| 15|        bench|      outdoor|\n",
      "| 16|         bird|       animal|\n",
      "| 17|          cat|       animal|\n",
      "| 18|          dog|       animal|\n",
      "| 19|        horse|       animal|\n",
      "| 20|        sheep|       animal|\n",
      "| 21|          cow|       animal|\n",
      "+---+-------------+-------------+\n",
      "only showing top 20 rows\n",
      "\n"
     ]
    }
   ],
   "source": [
    "categories = spark.createDataFrame(sql.Row(**x) for x in obj['categories'])\n",
    "categories.show()"
   ]
  },
  {
   "cell_type": "code",
   "execution_count": 9,
   "metadata": {},
   "outputs": [],
   "source": [
    "# categoriesRDD = sc.parallelize(obj[\"categories\"])"
   ]
  },
  {
   "cell_type": "code",
   "execution_count": 10,
   "metadata": {},
   "outputs": [],
   "source": [
    "# categories = spark.read.json(categoriesRDD)"
   ]
  },
  {
   "cell_type": "code",
   "execution_count": null,
   "metadata": {},
   "outputs": [],
   "source": []
  },
  {
   "cell_type": "code",
   "execution_count": 38,
   "metadata": {},
   "outputs": [],
   "source": [
    "# https://stackoverflow.com/q/41386557/2049763\n",
    "from pyspark.sql.types import StructType, StructField, StringType, DoubleType, LongType, ArrayType\n",
    "\n",
    "annotations_schema = StructType([\n",
    "StructField('area',StringType(), True),\n",
    "StructField('bbox',ArrayType(StringType(),True),True),\n",
    "StructField('category_id',LongType(),True),\n",
    "StructField('id',LongType(),True),\n",
    "StructField('image_id',LongType(),True),\n",
    "StructField('iscrowd',LongType(),True),\n",
    "StructField('segmentation',StringType(),True)\n",
    "])"
   ]
  },
  {
   "cell_type": "code",
   "execution_count": 39,
   "metadata": {
    "scrolled": true
   },
   "outputs": [
    {
     "name": "stdout",
     "output_type": "stream",
     "text": [
      "+------------------+--------------------+-----------+----+--------+-------+--------------------+\n",
      "|              area|                bbox|category_id|  id|image_id|iscrowd|        segmentation|\n",
      "+------------------+--------------------+-----------+----+--------+-------+--------------------+\n",
      "|2765.1486500000005|[199.84, 200.46, ...|         58| 156|  558840|      0|[[239.97, 260.24,...|\n",
      "|1545.4213000000007|[234.22, 317.11, ...|         58| 509|  200365|      0|[[247.71, 354.7, ...|\n",
      "| 5607.661349999996|[239.48, 347.87, ...|         58| 603|  200365|      0|[[274.58, 405.68,...|\n",
      "|               0.0|[296.65, 388.33, ...|         58| 918|  200365|      0|[[296.65, 388.33,...|\n",
      "| 800.4132499999978|[251.87, 333.42, ...|         58|1072|  200365|      0|[[251.87, 356.13,...|\n",
      "|2243.7513000000004|[337.02, 244.46, ...|         18|1727|  495357|      0|[[374.46, 310.42,...|\n",
      "| 1698.440800000001|[213.81, 192.39, ...|         18|1728|  116061|      0|[[214.59, 205.04,...|\n",
      "|19957.726749999994|[324.66, 247.92, ...|         18|1767|   16164|      0|[[392.54, 324.66,...|\n",
      "| 702.1057499999998|[473.07, 395.93, ...|         18|1768|  289343|      0|[[510.66, 423.01,...|\n",
      "|1323.1564500000004|[260.18, 252.76, ...|         18|1769|  205350|      0|[[275.27, 274.46,...|\n",
      "|27718.476299999995|[272.1, 200.23, 1...|         18|1773|   61471|      0|[[289.74, 443.39,...|\n",
      "|       18234.62355|[61.87, 276.25, 2...|         18|1774|      74|      0|[[321.02, 321.0, ...|\n",
      "| 49430.25395000001|[1.29, 324.14, 25...|         18|2144|  212545|      0|[[1.29, 416.12, 6...|\n",
      "| 59240.44209999999|[55.38, 132.63, 4...|         18|2251|  514915|      0|[[75.79, 376.52, ...|\n",
      "|        3700.37325|[150.0, 320.98, 1...|         18|2255|  154589|      0|[[150.0, 370.98, ...|\n",
      "| 32993.98180000002|[365.75, 0.86, 27...|         18|2259|  471175|      0|[[640.0, 190.64, ...|\n",
      "|       10204.53555|[346.38, 54.94, 1...|         18|2280|  225919|      0|[[347.95, 87.38, ...|\n",
      "| 2298.644500000001|[289.47, 214.76, ...|         18|2281|  400728|      0|[[305.12, 283.24,...|\n",
      "|        13203.3917|[232.68, 103.89, ...|         18|2496|  194306|      0|[[263.59, 206.92,...|\n",
      "| 61538.29495000001|[83.39, 0.97, 293...|         18|2498|  383780|      0|[[317.09, 306.42,...|\n",
      "+------------------+--------------------+-----------+----+--------+-------+--------------------+\n",
      "only showing top 20 rows\n",
      "\n"
     ]
    }
   ],
   "source": [
    "annotations = spark.createDataFrame( (sql.Row(**x) for x in obj['annotations']), schema=annotations_schema)\n",
    "annotations.show()"
   ]
  },
  {
   "cell_type": "code",
   "execution_count": 11,
   "metadata": {},
   "outputs": [],
   "source": [
    "# annotationsRDD = sc.parallelize(obj[\"annotations\"])"
   ]
  },
  {
   "cell_type": "code",
   "execution_count": null,
   "metadata": {},
   "outputs": [],
   "source": [
    "# annotations = spark.read.json(annotationsRDD)"
   ]
  },
  {
   "cell_type": "code",
   "execution_count": 40,
   "metadata": {},
   "outputs": [
    {
     "name": "stdout",
     "output_type": "stream",
     "text": [
      "(291875, 7)\n",
      "40137\n"
     ]
    }
   ],
   "source": [
    "print((annotations.count(), len(annotations.columns)))\n",
    "print(annotations.select('image_id').distinct().count())"
   ]
  },
  {
   "cell_type": "code",
   "execution_count": 41,
   "metadata": {},
   "outputs": [],
   "source": [
    "category_id_count_df = annotations.groupBy('category_id').count()"
   ]
  },
  {
   "cell_type": "code",
   "execution_count": 42,
   "metadata": {},
   "outputs": [],
   "source": [
    "category_outer_join_df = category_id_count_df.join(categories, category_id_count_df.category_id == categories.id, how='full')\n",
    "category_outer_join_df = category_outer_join_df.sort(\"category_id\", ascending=True)"
   ]
  },
  {
   "cell_type": "code",
   "execution_count": null,
   "metadata": {},
   "outputs": [],
   "source": []
  },
  {
   "cell_type": "code",
   "execution_count": 43,
   "metadata": {},
   "outputs": [],
   "source": [
    "import shutil"
   ]
  },
  {
   "cell_type": "code",
   "execution_count": 45,
   "metadata": {},
   "outputs": [],
   "source": [
    "instances_train2014_csv_path = \"/vagrant/datasets/coco/instances_train2014_category_outer_join_df.csv\"\n",
    "if os.path.isdir(instances_train2014_csv_path):\n",
    "    shutil.rmtree(instances_train2014_csv_path) "
   ]
  },
  {
   "cell_type": "code",
   "execution_count": 46,
   "metadata": {},
   "outputs": [],
   "source": [
    "category_outer_join_df.repartition(1).write.csv(path=instances_train2014_csv_path, mode=\"append\", header=\"true\")"
   ]
  },
  {
   "cell_type": "code",
   "execution_count": null,
   "metadata": {},
   "outputs": [],
   "source": []
  },
  {
   "cell_type": "markdown",
   "metadata": {},
   "source": [
    "### instances_train2017"
   ]
  },
  {
   "cell_type": "code",
   "execution_count": 6,
   "metadata": {},
   "outputs": [],
   "source": [
    "# read file\n",
    "path = \"/vagrant/datasets/coco/instances_train2017.json\"\n",
    "with open(path, 'r') as myfile:\n",
    "    data=myfile.read()"
   ]
  },
  {
   "cell_type": "code",
   "execution_count": 7,
   "metadata": {},
   "outputs": [],
   "source": [
    "import json"
   ]
  },
  {
   "cell_type": "code",
   "execution_count": 8,
   "metadata": {
    "scrolled": true
   },
   "outputs": [],
   "source": [
    "# parse file\n",
    "obj = json.loads(data)"
   ]
  },
  {
   "cell_type": "code",
   "execution_count": 9,
   "metadata": {},
   "outputs": [],
   "source": [
    "from pyspark import sql"
   ]
  },
  {
   "cell_type": "code",
   "execution_count": 10,
   "metadata": {
    "scrolled": true
   },
   "outputs": [],
   "source": [
    "categories_train2017 = spark.createDataFrame(sql.Row(**x) for x in obj['categories'])"
   ]
  },
  {
   "cell_type": "code",
   "execution_count": 11,
   "metadata": {},
   "outputs": [],
   "source": [
    "# https://stackoverflow.com/q/41386557/2049763\n",
    "from pyspark.sql.types import StructType, StructField, StringType, DoubleType, LongType, ArrayType\n",
    "\n",
    "annotations_schema = StructType([\n",
    "StructField('area',StringType(), True),\n",
    "StructField('bbox',ArrayType(StringType(),True),True),\n",
    "StructField('category_id',LongType(),True),\n",
    "StructField('id',LongType(),True),\n",
    "StructField('image_id',LongType(),True),\n",
    "StructField('iscrowd',LongType(),True),\n",
    "StructField('segmentation',StringType(),True)\n",
    "])"
   ]
  },
  {
   "cell_type": "code",
   "execution_count": null,
   "metadata": {},
   "outputs": [],
   "source": [
    "annotations_train2017 = spark.createDataFrame( (sql.Row(**x) for x in obj['annotations']), schema=annotations_schema)"
   ]
  },
  {
   "cell_type": "code",
   "execution_count": null,
   "metadata": {},
   "outputs": [],
   "source": [
    "print((annotations_train2017.count(), len(annotations_train2017.columns)))\n",
    "print(annotations_train2017.select('image_id').distinct().count())"
   ]
  },
  {
   "cell_type": "code",
   "execution_count": null,
   "metadata": {},
   "outputs": [],
   "source": [
    "category_id_count_df_train2017 = annotations_train2017.groupBy('category_id').count()"
   ]
  },
  {
   "cell_type": "code",
   "execution_count": null,
   "metadata": {},
   "outputs": [],
   "source": [
    "category_outer_join_df_train2017 = category_id_count_df_train2017.join(\n",
    "    categories_train2017, category_id_count_df_train2017.category_id == categories_train2017.id, how='full')\n",
    "category_outer_join_df_train2017 = category_outer_join_df_train2017.sort(\"category_id\", ascending=True)"
   ]
  },
  {
   "cell_type": "code",
   "execution_count": null,
   "metadata": {},
   "outputs": [],
   "source": []
  },
  {
   "cell_type": "code",
   "execution_count": null,
   "metadata": {},
   "outputs": [],
   "source": [
    "import shutil"
   ]
  },
  {
   "cell_type": "code",
   "execution_count": null,
   "metadata": {},
   "outputs": [],
   "source": [
    "instances_train2017_csv_path = \"/vagrant/datasets/coco/instances_train2017_category_outer_join_df.csv\"\n",
    "if os.path.isdir(instances_train2017_csv_path):\n",
    "    shutil.rmtree(instances_train2017_csv_path) "
   ]
  },
  {
   "cell_type": "code",
   "execution_count": null,
   "metadata": {},
   "outputs": [],
   "source": [
    "category_outer_join_df_train2017.repartition(1).write.csv(path=instances_train2017_csv_path, mode=\"append\", header=\"true\")"
   ]
  },
  {
   "cell_type": "code",
   "execution_count": null,
   "metadata": {},
   "outputs": [],
   "source": []
  }
 ],
 "metadata": {
  "kernelspec": {
   "display_name": "Pyspark (Py3)",
   "language": "",
   "name": "pyspark"
  },
  "language_info": {
   "codemirror_mode": {
    "name": "ipython",
    "version": 3
   },
   "file_extension": ".py",
   "mimetype": "text/x-python",
   "name": "python",
   "nbconvert_exporter": "python",
   "pygments_lexer": "ipython3",
   "version": "3.6.7"
  }
 },
 "nbformat": 4,
 "nbformat_minor": 2
}
