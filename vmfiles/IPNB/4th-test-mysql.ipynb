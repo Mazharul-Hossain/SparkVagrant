{
 "cells": [
  {
   "cell_type": "code",
   "execution_count": 1,
   "metadata": {},
   "outputs": [],
   "source": [
    "import pyspark\n",
    "from  pyspark.sql import SparkSession\n",
    "from pyspark.sql import SQLContext\n",
    "from pyspark.conf import SparkConf"
   ]
  },
  {
   "cell_type": "code",
   "execution_count": 2,
   "metadata": {},
   "outputs": [
    {
     "data": {
      "text/plain": [
       "<pyspark.conf.SparkConf at 0x7f2b90fb0c50>"
      ]
     },
     "execution_count": 2,
     "metadata": {},
     "output_type": "execute_result"
    }
   ],
   "source": [
    "# https://stackoverflow.com/a/39528114/2049763\n",
    "# https://stackoverflow.com/q/43692453/2049763\n",
    "\n",
    "config = SparkConf()\n",
    "config.setMaster('spark://192.72.33.100:7077')\n",
    "# config.set(\"spark.driver.memory\", \"2g\") \n",
    "config.set(\"spark.executor.memory\", \"2g\") \n",
    "config.set(\"spark.network.timeout\", \"180\")\n",
    "config.set(\"spark.driver.host\", \"192.72.33.100\")\n",
    "config.set(\"spark.local.ip\", \"192.72.33.100\")\n",
    "config.set(\"spark.driver.bindAddress\", \"192.72.33.100\")\n",
    "# https://stackoverflow.com/a/51746082/2049763 spark.jars spark.driver.extraClassPath\n",
    "# https://stackoverflow.com/a/53837399/2049763\n",
    "# config.set(\"spark.driver.extraClassPath\", \n",
    "#            \"/vagrant/mysql-connector-java/mysql-connector-java-5.1.48.jar:/vagrant/mysql-connector-java/mysql-connector-java-5.1.48-bin.jar\")\n",
    "\n",
    "# https://stackoverflow.com/a/38479360/2049763\n",
    "# config.set(\"spark.executor.instances\", \"2\")\n",
    "\n",
    "config.setAppName('my_mysql_app')"
   ]
  },
  {
   "cell_type": "code",
   "execution_count": 3,
   "metadata": {},
   "outputs": [],
   "source": [
    "sc.stop()\n",
    "sc = SparkContext(conf=config)"
   ]
  },
  {
   "cell_type": "code",
   "execution_count": 4,
   "metadata": {
    "scrolled": false
   },
   "outputs": [
    {
     "data": {
      "text/plain": [
       "[('spark.eventLog.enabled', 'true'),\n",
       " ('spark.executor.memory', '2g'),\n",
       " ('spark.network.timeout', '180'),\n",
       " ('spark.sql.execution.arrow.enabled', 'true'),\n",
       " ('spark.local.ip', '192.72.33.100'),\n",
       " ('spark.master', 'spark://192.72.33.100:7077'),\n",
       " ('spark.driver.port', '36659'),\n",
       " ('spark.app.id', 'app-20191129215650-0001'),\n",
       " ('spark.executor.id', 'driver'),\n",
       " ('spark.driver.host', '192.72.33.100'),\n",
       " ('spark.sql.catalogImplementation', 'hive'),\n",
       " ('spark.rdd.compress', 'True'),\n",
       " ('spark.eventLog.dir', '/var/log/ipnb'),\n",
       " ('spark.serializer.objectStreamReset', '100'),\n",
       " ('spark.driver.bindAddress', '192.72.33.100'),\n",
       " ('spark.submit.deployMode', 'client'),\n",
       " ('spark.app.name', 'my_mysql_app'),\n",
       " ('spark.ui.showConsoleProgress', 'true'),\n",
       " ('spark.sql.warehouse.dir', '/vagrant/hive/warehouse')]"
      ]
     },
     "execution_count": 4,
     "metadata": {},
     "output_type": "execute_result"
    }
   ],
   "source": [
    "spark = SparkSession.builder.config(conf=config).getOrCreate()\n",
    "sc.getConf().getAll()"
   ]
  },
  {
   "cell_type": "code",
   "execution_count": null,
   "metadata": {},
   "outputs": [],
   "source": []
  },
  {
   "cell_type": "markdown",
   "metadata": {},
   "source": [
    "# TPCD DATABASE FOR OS PERFORMANCE TESTING"
   ]
  },
  {
   "cell_type": "markdown",
   "metadata": {},
   "source": [
    "## Select queries "
   ]
  },
  {
   "cell_type": "code",
   "execution_count": 11,
   "metadata": {},
   "outputs": [],
   "source": [
    "# https://spark.apache.org/docs/latest/sql-data-sources-jdbc.html\n",
    "# https://relational.fit.cvut.cz/dataset/TPCD\n",
    "# https://stackoverflow.com/a/41125629/2049763\n",
    "# query_1 = \"SELECT * FROM tpcd.dss_order\"\n",
    "# query_0 = \"(SELECT * FROM tpcd.dss_order LIMIT 10) AS t\" # 3 seconds \n",
    "\n",
    "dss_order_df = spark.read.format(\"jdbc\").options(\n",
    "    url = \"jdbc:mysql://relational.fit.cvut.cz:3306\", \n",
    "    driver = \"com.mysql.jdbc.Driver\",\n",
    "    user = \"guest\",\n",
    "    password = \"relational\",\n",
    "    numPartitions = 256,\n",
    "    dbtable =  \"tpcd.dss_order\",\n",
    "    partitionColumn = \"o_orderkey\",\n",
    "    lowerBound = 1,\n",
    "    upperBound = 100000000).load()"
   ]
  },
  {
   "cell_type": "code",
   "execution_count": 12,
   "metadata": {
    "scrolled": true
   },
   "outputs": [
    {
     "name": "stdout",
     "output_type": "stream",
     "text": [
      "+----------+---------+-------------+------------+-----------+---------------+---------------+--------------+--------------------+\n",
      "|o_orderkey|o_custkey|o_orderstatus|o_totalprice|o_orderdate|o_orderpriority|        o_clerk|o_shippriority|           o_comment|\n",
      "+----------+---------+-------------+------------+-----------+---------------+---------------+--------------+--------------------+\n",
      "|         1|       47|            F|      932.03| 1992-01-01|       1-URGENT|Clerk#000000001|             0|NNiPP2mRgR2LRwRym...|\n",
      "|         2|    39227|            O| 141065.6154| 1996-09-04|          5-LOW|Clerk#000000447|             0|iL6m0mg4kR 20wBPL...|\n",
      "|         3|    33632|            O| 136655.7172| 1997-06-02|4-NOT SPECIFIED|Clerk#000000312|             0|6  mBNm2k2ygR4 02...|\n",
      "|         4|    51901|            O| 295046.4753| 1998-05-04|       3-MEDIUM|Clerk#000000046|             0|Li62iByNmwRBB0R6R...|\n",
      "|         5|    46604|            O| 359799.4073| 1998-02-05|         2-HIGH|Clerk#000000861|             0|2Lkw6N0BymBLm miy...|\n",
      "+----------+---------+-------------+------------+-----------+---------------+---------------+--------------+--------------------+\n",
      "only showing top 5 rows\n",
      "\n"
     ]
    }
   ],
   "source": [
    "# https://medium.com/@radek.strnad/tips-for-using-jdbc-in-apache-spark-sql-396ea7b2e3d3\n",
    "# https://stackoverflow.com/a/35062411/2049763\n",
    "dss_order_df.show(5) # 1.5 min"
   ]
  },
  {
   "cell_type": "code",
   "execution_count": 7,
   "metadata": {},
   "outputs": [],
   "source": [
    "dss_lineitem_df = spark.read.format(\"jdbc\").options(\n",
    "    url = \"jdbc:mysql://relational.fit.cvut.cz:3306\", \n",
    "    driver = \"com.mysql.jdbc.Driver\",\n",
    "    user = \"guest\",\n",
    "    password = \"relational\",\n",
    "    numPartitions = 256,\n",
    "    dbtable =  \"tpcd.dss_lineitem\",\n",
    "    partitionColumn = \"l_orderkey\",\n",
    "    lowerBound = 1,\n",
    "    upperBound = 10000000).load()"
   ]
  },
  {
   "cell_type": "code",
   "execution_count": 8,
   "metadata": {},
   "outputs": [
    {
     "data": {
      "text/plain": [
       "(5998391, 16)"
      ]
     },
     "execution_count": 8,
     "metadata": {},
     "output_type": "execute_result"
    }
   ],
   "source": [
    "(dss_lineitem_df.count(), len(dss_lineitem_df.columns))"
   ]
  },
  {
   "cell_type": "code",
   "execution_count": 9,
   "metadata": {},
   "outputs": [
    {
     "data": {
      "text/plain": [
       "['l_orderkey',\n",
       " 'l_partkey',\n",
       " 'l_suppkey',\n",
       " 'l_linenumber',\n",
       " 'l_quantity',\n",
       " 'l_extendedprice',\n",
       " 'l_discount',\n",
       " 'l_tax',\n",
       " 'l_returnflag',\n",
       " 'l_linestatus',\n",
       " 'l_shipdate',\n",
       " 'l_commitdate',\n",
       " 'l_receiptdate',\n",
       " 'l_shipinstruct',\n",
       " 'l_shipmode',\n",
       " 'l_comment']"
      ]
     },
     "execution_count": 9,
     "metadata": {},
     "output_type": "execute_result"
    }
   ],
   "source": [
    "dss_lineitem_df.columns"
   ]
  },
  {
   "cell_type": "code",
   "execution_count": 10,
   "metadata": {},
   "outputs": [
    {
     "name": "stdout",
     "output_type": "stream",
     "text": [
      "+----------+---------+---------+------------+----------+---------------+----------+-----+------------+------------+----------+------------+-------------+-----------------+----------+--------------------+\n",
      "|l_orderkey|l_partkey|l_suppkey|l_linenumber|l_quantity|l_extendedprice|l_discount|l_tax|l_returnflag|l_linestatus|l_shipdate|l_commitdate|l_receiptdate|   l_shipinstruct|l_shipmode|           l_comment|\n",
      "+----------+---------+---------+------------+----------+---------------+----------+-----+------------+------------+----------+------------+-------------+-----------------+----------+--------------------+\n",
      "|         1|       32|       33|           1|       1.0|         932.03|       0.0|  0.0|           R|           F|1992-01-02|  1992-01-31|   1992-01-03|DELIVER IN PERSON|   REG AIR|i0i60mBymi       ...|\n",
      "|         2|   126152|     3689|           1|      43.0|       50660.45|       0.1|  0.0|           N|           O|1996-12-22|  1996-10-05|   1996-12-27|DELIVER IN PERSON|      RAIL|4B 66gkkRRm 6ggki...|\n",
      "|         3|    22422|     9929|           1|      29.0|       38988.18|      0.03|  0.0|           N|           O|1997-08-17|  1997-07-25|   1997-08-22|             NONE|      MAIL|yLwR6LByR02yB0mRi...|\n",
      "|         4|    34601|     9608|           1|      22.0|        33783.2|      0.09| 0.03|           N|           O|1998-05-15|  1998-07-06|   1998-05-16|             NONE|       AIR|gLPP6kw  kiNk2gy ...|\n",
      "|         5|   131069|     1070|           1|      23.0|       25301.38|       0.1| 0.04|           N|           O|1998-05-04|  1998-03-22|   1998-05-28|DELIVER IN PERSON|      MAIL|LNmiRPwLm666k  60...|\n",
      "+----------+---------+---------+------------+----------+---------------+----------+-----+------------+------------+----------+------------+-------------+-----------------+----------+--------------------+\n",
      "only showing top 5 rows\n",
      "\n"
     ]
    }
   ],
   "source": [
    "dss_lineitem_df.show(5) # 1.6 min"
   ]
  },
  {
   "cell_type": "code",
   "execution_count": null,
   "metadata": {},
   "outputs": [],
   "source": []
  },
  {
   "cell_type": "markdown",
   "metadata": {},
   "source": [
    "## AGGREGATE QUERIES"
   ]
  },
  {
   "cell_type": "code",
   "execution_count": 14,
   "metadata": {},
   "outputs": [],
   "source": [
    "# SELECT o_custkey, sum(o_totalprice) FROM tpcd.dss_order group by o_custkey\n",
    "sum_o_totalprice_df = dss_order_df.groupby('o_custkey').sum('o_totalprice')"
   ]
  },
  {
   "cell_type": "code",
   "execution_count": 15,
   "metadata": {},
   "outputs": [
    {
     "name": "stdout",
     "output_type": "stream",
     "text": [
      "+---------+------------------+\n",
      "|o_custkey| sum(o_totalprice)|\n",
      "+---------+------------------+\n",
      "|    92644|      2836487.3839|\n",
      "|    87338|1658548.1436000003|\n",
      "|    96469|      2674413.0357|\n",
      "|    31261|3534400.9905000003|\n",
      "|   106544|      1235199.2328|\n",
      "|   102119|1198082.8994999998|\n",
      "|   117994|      2273359.5405|\n",
      "|   133189|3571808.0951000005|\n",
      "|    16339|       2474340.657|\n",
      "|    99817|      2634315.1224|\n",
      "+---------+------------------+\n",
      "only showing top 10 rows\n",
      "\n"
     ]
    }
   ],
   "source": [
    "sum_o_totalprice_df.show(10) # 37 s"
   ]
  },
  {
   "cell_type": "code",
   "execution_count": null,
   "metadata": {},
   "outputs": [],
   "source": []
  },
  {
   "cell_type": "code",
   "execution_count": 17,
   "metadata": {},
   "outputs": [],
   "source": [
    "# SELECT * FROM tpcd.dss_order ORDER BY o_orderdate DESC\n",
    "dss_order_sorted_df = dss_order_df.orderBy('o_orderdate', ascending=False)"
   ]
  },
  {
   "cell_type": "code",
   "execution_count": 18,
   "metadata": {},
   "outputs": [
    {
     "name": "stdout",
     "output_type": "stream",
     "text": [
      "+----------+---------+-------------+------------+-----------+---------------+---------------+--------------+--------------------+\n",
      "|o_orderkey|o_custkey|o_orderstatus|o_totalprice|o_orderdate|o_orderpriority|        o_clerk|o_shippriority|           o_comment|\n",
      "+----------+---------+-------------+------------+-----------+---------------+---------------+--------------+--------------------+\n",
      "|   3205094|   138424|            O| 151449.0993| 1998-08-02|       1-URGENT|Clerk#000000154|             0| y 2gNLB4BRgNRm4L...|\n",
      "|   3310498|    22888|            O| 200453.5016| 1998-08-02|          5-LOW|Clerk#000000692|             0|yy0iLRkBik iiPy2P...|\n",
      "|   3209511|    22936|            O| 285038.6412| 1998-08-02|          5-LOW|Clerk#000000693|             0|RL24iBiR4yPRk2P2 ...|\n",
      "|   3184548|    80701|            O|  27053.6576| 1998-08-02|       3-MEDIUM|Clerk#000000923|             0|ywyB BBNiB 2Rk2iy...|\n",
      "|   3221542|    46030|            O|  70419.4128| 1998-08-02|4-NOT SPECIFIED|Clerk#000000385|             0|0R2R0By0RRy2wB4Pw...|\n",
      "|   3267016|    69083|            O| 254970.5207| 1998-08-02|       3-MEDIUM|Clerk#000000077|             0|k200P  y4 w0Lk 02...|\n",
      "|   3269767|    11380|            O| 135464.4397| 1998-08-02|          5-LOW|Clerk#000000846|             0|022kBmg6wkwmgwLR6...|\n",
      "|   3178440|   138275|            O| 161989.3511| 1998-08-02|       1-URGENT|Clerk#000000154|             0|kiByg44BkNg2igmLP...|\n",
      "|   3280004|    69208|            O| 212748.9588| 1998-08-02|       3-MEDIUM|Clerk#000000077|             0|kgyLNg4B PR26Bk  ...|\n",
      "|   3250375|    57677|            O| 197642.9983| 1998-08-02|4-NOT SPECIFIED|Clerk#000000231|             0|BN y4igL0k2LwygLw...|\n",
      "+----------+---------+-------------+------------+-----------+---------------+---------------+--------------+--------------------+\n",
      "only showing top 10 rows\n",
      "\n"
     ]
    }
   ],
   "source": [
    "dss_order_sorted_df.show(10) # 2.2 min"
   ]
  },
  {
   "cell_type": "code",
   "execution_count": null,
   "metadata": {},
   "outputs": [],
   "source": []
  },
  {
   "cell_type": "code",
   "execution_count": 19,
   "metadata": {},
   "outputs": [],
   "source": [
    "# SELECT * FROM tpcd.dss_lineitem order by l_shipdate desc\n",
    "dss_lineitem_sorted_df = dss_lineitem_df.orderBy('l_shipdate', ascending=False)"
   ]
  },
  {
   "cell_type": "code",
   "execution_count": 20,
   "metadata": {},
   "outputs": [
    {
     "name": "stdout",
     "output_type": "stream",
     "text": [
      "+----------+---------+---------+------------+----------+---------------+----------+-----+------------+------------+----------+------------+-------------+-----------------+----------+--------------------+\n",
      "|l_orderkey|l_partkey|l_suppkey|l_linenumber|l_quantity|l_extendedprice|l_discount|l_tax|l_returnflag|l_linestatus|l_shipdate|l_commitdate|l_receiptdate|   l_shipinstruct|l_shipmode|           l_comment|\n",
      "+----------+---------+---------+------------+----------+---------------+----------+-----+------------+------------+----------+------------+-------------+-----------------+----------+--------------------+\n",
      "|   1519014|    53655|     3656|           2|       5.0|        8043.25|       0.1| 0.07|           N|           O|1998-12-01|  1998-10-23|   1998-12-23| TAKE BACK RETURN|     TRUCK| 0ywBPgP6 6NPk2gR...|\n",
      "|   1207745|    35314|      321|           4|      37.0|       46224.47|      0.01| 0.04|           N|           O|1998-12-01|  1998-09-25|   1998-12-26|             NONE|      RAIL|Ngy0 mwg60 NPmyNN...|\n",
      "|   1109858|    18132|     3135|           3|      19.0|       19952.47|      0.08| 0.02|           N|           O|1998-12-01|  1998-09-28|   1998-12-29| TAKE BACK RETURN|       AIR|g 0 2mkmRwkiBg2w0...|\n",
      "|   1221057|    16708|     1711|           1|      18.0|        29244.6|      0.08| 0.02|           N|           O|1998-12-01|  1998-09-28|   1998-12-29| TAKE BACK RETURN|       AIR|4mBRL0kw2i0kwm206...|\n",
      "|   1242818|    35301|     5302|           1|      37.0|        45743.1|      0.06| 0.04|           N|           O|1998-12-01|  1998-10-26|   1998-12-26|      COLLECT COD|      RAIL|Lwm0 By6Ny40w0w2N...|\n",
      "|    675522|    35875|      882|           3|      37.0|       67002.19|      0.01| 0.04|           N|           O|1998-12-01|  1998-09-25|   1998-12-26|             NONE|      RAIL|wP06y2mk k k0P4gN...|\n",
      "|    544066|   163590|     1139|           4|      14.0|       23150.26|      0.03| 0.04|           N|           O|1998-12-01|  1998-09-06|   1998-12-07| TAKE BACK RETURN|      MAIL|NyLm4iPyL  NL60kw...|\n",
      "|    651074|    16937|     6938|           2|      18.0|       33370.74|      0.03| 0.02|           N|           O|1998-12-01|  1998-10-28|   1998-12-29|DELIVER IN PERSON|       AIR|2 BkkgyRwB       ...|\n",
      "|   1121028|   144196|     1739|           1|      46.0|       57048.74|       0.0| 0.01|           N|           O|1998-12-01|  1998-09-08|   1998-12-09|      COLLECT COD|     TRUCK|4RgLm 0iiPmikiRg ...|\n",
      "|    530696|    34986|     9993|           2|      37.0|       71076.26|      0.01| 0.04|           N|           O|1998-12-01|  1998-09-25|   1998-12-26|             NONE|      RAIL|kBy0iLB40Lk6ww6Bi...|\n",
      "+----------+---------+---------+------------+----------+---------------+----------+-----+------------+------------+----------+------------+-------------+-----------------+----------+--------------------+\n",
      "only showing top 10 rows\n",
      "\n"
     ]
    }
   ],
   "source": [
    "dss_lineitem_sorted_df.show(10) # 8.7 min"
   ]
  },
  {
   "cell_type": "code",
   "execution_count": null,
   "metadata": {},
   "outputs": [],
   "source": []
  },
  {
   "cell_type": "markdown",
   "metadata": {},
   "source": [
    "## INNER JOIN"
   ]
  },
  {
   "cell_type": "code",
   "execution_count": 22,
   "metadata": {},
   "outputs": [],
   "source": [
    "dss_customer_df = spark.read.format(\"jdbc\").options(\n",
    "    url = \"jdbc:mysql://relational.fit.cvut.cz:3306\", \n",
    "    driver = \"com.mysql.jdbc.Driver\",\n",
    "    user = \"guest\",\n",
    "    password = \"relational\",\n",
    "    numPartitions = 256,\n",
    "    dbtable =  \"tpcd.dss_customer\",\n",
    "    partitionColumn = \"c_custkey\",\n",
    "    lowerBound = 1,\n",
    "    upperBound = 10000000).load()"
   ]
  },
  {
   "cell_type": "code",
   "execution_count": 24,
   "metadata": {},
   "outputs": [],
   "source": [
    "# select dss_order.o_custkey, dss_order.o_totalprice , dss_customer.c_name,\n",
    "# dss_customer.c_address,dss_customer.c_nationkey,dss_customer.c_phone\n",
    "# FROM dss_order\n",
    "# INNER JOIN dss_customer ON dss_order.o_custkey = dss_customer.c_custkey \n",
    "# order by c_nationkey desc\n",
    "\n",
    "dss_order_join_dss_customer_df = dss_order_df.join(\n",
    "    dss_customer_df, dss_order_df.o_custkey == dss_customer_df.c_custkey).select(\n",
    "    dss_order_df.o_custkey, dss_order_df.o_totalprice , \n",
    "    dss_customer_df.c_name,\n",
    "    dss_customer_df.c_address, dss_customer_df.c_nationkey, dss_customer_df.c_phone)"
   ]
  },
  {
   "cell_type": "code",
   "execution_count": 25,
   "metadata": {},
   "outputs": [],
   "source": [
    "dss_order_join_dss_customer_sorted_df = dss_order_join_dss_customer_df.orderBy('c_nationkey', ascending=False)"
   ]
  },
  {
   "cell_type": "code",
   "execution_count": 26,
   "metadata": {},
   "outputs": [
    {
     "name": "stdout",
     "output_type": "stream",
     "text": [
      "+---------+------------+--------------------+--------------------+-----------+------------+\n",
      "|o_custkey|o_totalprice|              c_name|           c_address|c_nationkey|     c_phone|\n",
      "+---------+------------+--------------------+--------------------+-----------+------------+\n",
      "|     2443| 187451.5443|Customer#00000024...|gkN0kgRNBLm4P6LN6...|         24|378-155-2138|\n",
      "|     2443| 218473.1685|Customer#00000024...|gkN0kgRNBLm4P6LN6...|         24|378-155-2138|\n",
      "|     2443| 348536.5476|Customer#00000024...|gkN0kgRNBLm4P6LN6...|         24|378-155-2138|\n",
      "|     2443| 215322.6765|Customer#00000024...|gkN0kgRNBLm4P6LN6...|         24|378-155-2138|\n",
      "|     2443| 118284.3657|Customer#00000024...|gkN0kgRNBLm4P6LN6...|         24|378-155-2138|\n",
      "|     2443|  50220.6138|Customer#00000024...|gkN0kgRNBLm4P6LN6...|         24|378-155-2138|\n",
      "|     2443| 247638.5209|Customer#00000024...|gkN0kgRNBLm4P6LN6...|         24|378-155-2138|\n",
      "|     2443| 139192.4071|Customer#00000024...|gkN0kgRNBLm4P6LN6...|         24|378-155-2138|\n",
      "|     2443| 280437.0173|Customer#00000024...|gkN0kgRNBLm4P6LN6...|         24|378-155-2138|\n",
      "|     2443| 165965.3436|Customer#00000024...|gkN0kgRNBLm4P6LN6...|         24|378-155-2138|\n",
      "+---------+------------+--------------------+--------------------+-----------+------------+\n",
      "only showing top 10 rows\n",
      "\n"
     ]
    }
   ],
   "source": [
    "dss_order_join_dss_customer_sorted_df.show(10) # 2.0 min"
   ]
  },
  {
   "cell_type": "code",
   "execution_count": 27,
   "metadata": {},
   "outputs": [
    {
     "name": "stdout",
     "output_type": "stream",
     "text": [
      "+---------+------------+--------------------+--------------------+-----------+------------+\n",
      "|o_custkey|o_totalprice|              c_name|           c_address|c_nationkey|     c_phone|\n",
      "+---------+------------+--------------------+--------------------+-----------+------------+\n",
      "|     2821| 148740.3968|Customer#00000028...|P4k24kyimNPw4gN6y...|         24|534-624-9403|\n",
      "|     2821| 111448.1032|Customer#00000028...|P4k24kyimNPw4gN6y...|         24|534-624-9403|\n",
      "|     2821|  189929.301|Customer#00000028...|P4k24kyimNPw4gN6y...|         24|534-624-9403|\n",
      "|     2821| 136359.8534|Customer#00000028...|P4k24kyimNPw4gN6y...|         24|534-624-9403|\n",
      "|     2821| 204574.3857|Customer#00000028...|P4k24kyimNPw4gN6y...|         24|534-624-9403|\n",
      "|     2821|  89034.3936|Customer#00000028...|P4k24kyimNPw4gN6y...|         24|534-624-9403|\n",
      "|     2821| 150957.3094|Customer#00000028...|P4k24kyimNPw4gN6y...|         24|534-624-9403|\n",
      "|     2821| 282999.9287|Customer#00000028...|P4k24kyimNPw4gN6y...|         24|534-624-9403|\n",
      "|     2821| 151255.6585|Customer#00000028...|P4k24kyimNPw4gN6y...|         24|534-624-9403|\n",
      "|     2821| 269455.2663|Customer#00000028...|P4k24kyimNPw4gN6y...|         24|534-624-9403|\n",
      "+---------+------------+--------------------+--------------------+-----------+------------+\n",
      "only showing top 10 rows\n",
      "\n"
     ]
    }
   ],
   "source": [
    "dss_order_join_dss_customer_sorted_df.show(10) # killing 1 of 4 nodes: 2.6 min "
   ]
  },
  {
   "cell_type": "code",
   "execution_count": null,
   "metadata": {},
   "outputs": [],
   "source": []
  }
 ],
 "metadata": {
  "kernelspec": {
   "display_name": "Pyspark (Py3)",
   "language": "",
   "name": "pyspark"
  },
  "language_info": {
   "codemirror_mode": {
    "name": "ipython",
    "version": 3
   },
   "file_extension": ".py",
   "mimetype": "text/x-python",
   "name": "python",
   "nbconvert_exporter": "python",
   "pygments_lexer": "ipython3",
   "version": "3.6.7"
  }
 },
 "nbformat": 4,
 "nbformat_minor": 2
}
